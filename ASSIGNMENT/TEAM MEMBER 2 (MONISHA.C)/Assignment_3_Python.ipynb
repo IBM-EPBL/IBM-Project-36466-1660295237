{
  "cells": [
    {
      "cell_type": "markdown",
      "metadata": {
        "id": "fwU2iooz85jt"
      },
      "source": [
        "## Exercises\n",
        "\n",
        "Answer the questions or complete the tasks outlined in bold below, use the specific method described if applicable."
      ]
    },
    {
      "cell_type": "markdown",
      "metadata": {
        "id": "SzBQQ_ml85j1"
      },
      "source": [
        "** What is 7 to the power of 4?**"
      ]
    },
    {
      "cell_type": "code",
      "execution_count": 3,
      "metadata": {
        "id": "UhvE4PBC85j3",
        "outputId": "5f529d59-7bce-4fff-88db-7a6b8278898f",
        "colab": {
          "base_uri": "https://localhost:8080/"
        }
      },
      "outputs": [
        {
          "output_type": "stream",
          "name": "stdout",
          "text": [
            "2401\n"
          ]
        }
      ],
      "source": [
        " a=4\n",
        " b=7\n",
        " c=b**a\n",
        " print(c)"
      ]
    },
    {
      "cell_type": "markdown",
      "metadata": {
        "id": "ds8G9S8j85j6"
      },
      "source": [
        "** Split this string:**\n",
        "\n",
        "    s = \"Hi there Sam!\"\n",
        "    \n",
        "**into a list. **"
      ]
    },
    {
      "cell_type": "code",
      "execution_count": 4,
      "metadata": {
        "collapsed": true,
        "id": "GD_Tls3H85j7",
        "colab": {
          "base_uri": "https://localhost:8080/"
        },
        "outputId": "c90cfbad-d264-4642-b870-0ded9b1930e2"
      },
      "outputs": [
        {
          "output_type": "stream",
          "name": "stdout",
          "text": [
            "['Hi', 'there', 'sam!']\n"
          ]
        }
      ],
      "source": [
        "s=\"Hi there sam!\"\n",
        "n=s.split(\" \")\n",
        "print(n)"
      ]
    },
    {
      "cell_type": "code",
      "execution_count": 5,
      "metadata": {
        "id": "RRGOKoai85j8",
        "outputId": "5823d35f-986f-43d1-d65a-5ac8b0ffeb9b",
        "colab": {
          "base_uri": "https://localhost:8080/"
        }
      },
      "outputs": [
        {
          "output_type": "stream",
          "name": "stdout",
          "text": [
            "['Hi', 'there', 'dad']\n"
          ]
        }
      ],
      "source": [
        "s=\"Hi there dad\"\n",
        "n=s.split(\" \")\n",
        "print(n)"
      ]
    },
    {
      "cell_type": "markdown",
      "metadata": {
        "id": "_bBNOu-785j9"
      },
      "source": [
        "** Given the variables:**\n",
        "\n",
        "    planet = \"Earth\"\n",
        "    diameter = 12742\n",
        "\n",
        "** Use .format() to print the following string: **\n",
        "\n",
        "    The diameter of Earth is 12742 kilometers."
      ]
    },
    {
      "cell_type": "code",
      "execution_count": 6,
      "metadata": {
        "collapsed": true,
        "id": "2TrzmDcS85j-",
        "colab": {
          "base_uri": "https://localhost:8080/"
        },
        "outputId": "cabb9045-0b13-44be-91e2-f7fe21472d37"
      },
      "outputs": [
        {
          "output_type": "stream",
          "name": "stdout",
          "text": [
            "the diameter of Earth is 12742 kilometers.\n"
          ]
        }
      ],
      "source": [
        "v=\"the diameter of {planet} is {diameter} kilometers.\"\n",
        "k=v.format(planet=\"Earth\",diameter=12742)\n",
        "print(k)"
      ]
    },
    {
      "cell_type": "code",
      "execution_count": 7,
      "metadata": {
        "id": "s_dQ7_xc85j_",
        "outputId": "141effcb-b6f4-4a0a-fd93-4d4dd813977f",
        "colab": {
          "base_uri": "https://localhost:8080/"
        }
      },
      "outputs": [
        {
          "output_type": "stream",
          "name": "stdout",
          "text": [
            "the diameter of Earth is 12742 kilometers.\n"
          ]
        }
      ],
      "source": [
        "v=\"the diameter of {planet} is {diameter} kilometers.\"\n",
        "k=v.format(planet=\"Earth\",diameter=12742)\n",
        "print(k)"
      ]
    },
    {
      "cell_type": "markdown",
      "metadata": {
        "id": "QAKtN7Hh85kB"
      },
      "source": [
        "** Given this nested list, use indexing to grab the word \"hello\" **"
      ]
    },
    {
      "cell_type": "code",
      "execution_count": null,
      "metadata": {
        "collapsed": true,
        "id": "-7dzQDyK85kD"
      },
      "outputs": [],
      "source": [
        "lst = [1,2,[3,4],[5,[100,200,['hello']],23,11],1,7]"
      ]
    },
    {
      "cell_type": "code",
      "execution_count": 10,
      "metadata": {
        "id": "6m5C0sTW85kE",
        "outputId": "eeeb6a61-483e-4c7d-ef7d-513dd69fc4c6",
        "colab": {
          "base_uri": "https://localhost:8080/"
        }
      },
      "outputs": [
        {
          "output_type": "stream",
          "name": "stdout",
          "text": [
            "'hello'\n"
          ]
        }
      ],
      "source": [
        "lst = [1,2,[3,4],[5,[100,200,['hello']],23,11],1,7]\n",
        "a=lst[3][1][2]\n",
        "a=str(a)\n",
        "b=a.strip('[').strip(']')\n",
        "print(b)"
      ]
    },
    {
      "cell_type": "markdown",
      "metadata": {
        "id": "9Ma7M4a185kF"
      },
      "source": [
        "** Given this nest dictionary grab the word \"hello\". Be prepared, this will be annoying/tricky **"
      ]
    },
    {
      "cell_type": "code",
      "execution_count": null,
      "metadata": {
        "id": "vrYAxSYN85kG"
      },
      "outputs": [],
      "source": [
        "d = {'k1':[1,2,3,{'tricky':['oh','man','inception',{'target':[1,2,3,'hello']}]}]}"
      ]
    },
    {
      "cell_type": "code",
      "execution_count": 9,
      "metadata": {
        "id": "FlILSdm485kH",
        "outputId": "2aeb8b31-5f77-4241-f710-e6a630bdd456",
        "colab": {
          "base_uri": "https://localhost:8080/"
        }
      },
      "outputs": [
        {
          "output_type": "stream",
          "name": "stdout",
          "text": [
            "hello\n"
          ]
        }
      ],
      "source": [
        "d = {'k1':[1,2,3,{'tricky':['oh','man','inception',{'target':[1,2,3,'hello']}]}]}\n",
        "print(d['k1'][3][\"tricky\"][3]['target'][3])"
      ]
    },
    {
      "cell_type": "markdown",
      "metadata": {
        "id": "FInV_FKB85kI"
      },
      "source": [
        "** What is the main difference between a tuple and a list? **"
      ]
    },
    {
      "cell_type": "code",
      "execution_count": 10,
      "metadata": {
        "collapsed": true,
        "id": "_VBWf00q85kJ"
      },
      "outputs": [],
      "source": [
        "#Tuple is immutable.\n",
        "#Tuples operations are safe.\n",
        "#Tuples consumes less memory."
      ]
    },
    {
      "cell_type": "markdown",
      "metadata": {
        "id": "zP-j0HZj85kK"
      },
      "source": [
        "** Create a function that grabs the email website domain from a string in the form: **\n",
        "\n",
        "    user@domain.com\n",
        "    \n",
        "**So for example, passing \"user@domain.com\" would return: domain.com**"
      ]
    },
    {
      "cell_type": "code",
      "execution_count": 11,
      "metadata": {
        "collapsed": true,
        "id": "unvEAwjk85kL"
      },
      "outputs": [],
      "source": [
        "def domainGet(email):\n",
        "  print(email.split('@')[-1])\n"
      ]
    },
    {
      "cell_type": "code",
      "execution_count": 13,
      "metadata": {
        "id": "Gb9dspLC85kL",
        "outputId": "1e00b28e-fcfe-462d-8fdd-b8c1b6aebbdf",
        "colab": {
          "base_uri": "https://localhost:8080/"
        }
      },
      "outputs": [
        {
          "output_type": "stream",
          "name": "stdout",
          "text": [
            "Plase Enter your Email: >user@domain.com\n",
            "domain.com\n"
          ]
        }
      ],
      "source": [
        "email=input(\"Plase Enter your Email: >\")\n",
        "domainGet(email)"
      ]
    },
    {
      "cell_type": "markdown",
      "metadata": {
        "id": "gYydb-y085kM"
      },
      "source": [
        "** Create a basic function that returns True if the word 'dog' is contained in the input string. Don't worry about edge cases like a punctuation being attached to the word dog, but do account for capitalization. **"
      ]
    },
    {
      "cell_type": "code",
      "execution_count": 19,
      "metadata": {
        "collapsed": true,
        "id": "Q4ldLGV785kM",
        "colab": {
          "base_uri": "https://localhost:8080/"
        },
        "outputId": "b1d1964f-b8b6-495f-c112-43cc20efef61"
      },
      "outputs": [
        {
          "output_type": "stream",
          "name": "stdout",
          "text": [
            "true\n"
          ]
        }
      ],
      "source": [
        "def findDog(st):\n",
        "  if 'dog' in st.lower():\n",
        "    print(\"true\")\n",
        "  else:\n",
        "      print(\"False\")\n",
        "st=\"Is there a dog here?\"\n",
        "findDog(st)   "
      ]
    },
    {
      "cell_type": "code",
      "execution_count": 20,
      "metadata": {
        "id": "EqH6b7yv85kN",
        "outputId": "50e4a1a2-3988-408a-b9fc-1da4a5f55347",
        "colab": {
          "base_uri": "https://localhost:8080/"
        }
      },
      "outputs": [
        {
          "output_type": "stream",
          "name": "stdout",
          "text": [
            "true\n"
          ]
        }
      ],
      "source": [
        "findDog(st)"
      ]
    },
    {
      "cell_type": "markdown",
      "metadata": {
        "id": "AyHQFALC85kO"
      },
      "source": [
        "** Create a function that counts the number of times the word \"dog\" occurs in a string. Again ignore edge cases. **"
      ]
    },
    {
      "cell_type": "code",
      "execution_count": 6,
      "metadata": {
        "id": "6hdc169585kO"
      },
      "outputs": [],
      "source": [
        "def dog_count(sentence):\n",
        "  word =sentence.split(' ')\n",
        "  k=0\n",
        "  for i in range(len(word)):\n",
        "    words[i]=words[i].lower()\n",
        "  for i in word:\n",
        "     if(i=='dog'):\n",
        "         k+=1\n",
        "     return k"
      ]
    },
    {
      "cell_type": "code",
      "execution_count": 9,
      "metadata": {
        "id": "igzsvHb385kO",
        "outputId": "93c9800d-e04a-4feb-ddc7-1a4f36eb9710",
        "colab": {
          "base_uri": "https://localhost:8080/"
        }
      },
      "outputs": [
        {
          "output_type": "stream",
          "name": "stdout",
          "text": [
            "Please enter your string: dog\n",
            "1\n"
          ]
        }
      ],
      "source": [
        "string = input(\"Please enter your string: \")\n",
        "\n",
        "def countdogs(string):\n",
        "    count = 0\n",
        "    for word in string.lower().split():\n",
        "        if word == 'dog' or word == 'dogs':\n",
        "            count = count + 1\n",
        "            print(count)\n",
        "\n",
        "countdogs(string)"
      ]
    },
    {
      "cell_type": "markdown",
      "metadata": {
        "id": "3n7jJt4k85kP"
      },
      "source": [
        "### Problem\n",
        "**You are driving a little too fast, and a police officer stops you. Write a function\n",
        "  to return one of 3 possible results: \"No ticket\", \"Small ticket\", or \"Big Ticket\". \n",
        "  If your speed is 60 or less, the result is \"No Ticket\". If speed is between 61 \n",
        "  and 80 inclusive, the result is \"Small Ticket\". If speed is 81 or more, the result is \"Big    Ticket\". Unless it is your birthday (encoded as a boolean value in the parameters of the function) -- on your birthday, your speed can be 5 higher in all \n",
        "  cases. **"
      ]
    },
    {
      "cell_type": "code",
      "execution_count": null,
      "metadata": {
        "collapsed": true,
        "id": "nvXMkvWk85kQ"
      },
      "outputs": [],
      "source": [
        "def caught_speeding(speed, is_birthday):\n",
        "    \n",
        "    if is_birthday:\n",
        "        speeding = speed - 5\n",
        "    else:\n",
        "        speeding = speed\n",
        "    \n",
        "    if speeding > 80:\n",
        "        return 'Big Ticket'\n",
        "    elif speeding > 60:\n",
        "        return 'Small Ticket'\n",
        "    else:\n",
        "        return 'No Ticket'"
      ]
    },
    {
      "cell_type": "code",
      "execution_count": 4,
      "metadata": {
        "id": "BU_UZcyk85kS",
        "outputId": "67b49b77-69de-4cb3-9c45-3bf6075ef1ac",
        "colab": {
          "base_uri": "https://localhost:8080/"
        }
      },
      "outputs": [
        {
          "output_type": "stream",
          "name": "stdout",
          "text": [
            "Please enter the speed(km/h)(only number please): \n",
            "\n",
            "> 80\n",
            "Please enter your birthday: (in DD/MM/YYYY format)\n",
            "\n",
            "> 07/11/2001\n",
            "You get a small ticket\n"
          ]
        }
      ],
      "source": [
        "print(\"Please enter the speed(km/h)(only number please): \\n\")\n",
        "speed = int(input(\"> \"))\n",
        "\n",
        "print(\"Please enter your birthday: (in DD/MM/YYYY format)\\n\")\n",
        "birthday = str(input(\"> \"))\n",
        "\n",
        "def speeding(speed, birthday):\n",
        "    if birthday == '29/08/1989':\n",
        "        s = speed - 5\n",
        "    else:\n",
        "        s = speed\n",
        "\n",
        "    if s <= 60:\n",
        "        print(\"You pass.\")\n",
        "    elif s > 61 and s <= 80:\n",
        "        print(\"You get a small ticket\")\n",
        "    else:\n",
        "        print(\"You get a big ticket.\")\n",
        "\n",
        "speeding(speed, birthday)"
      ]
    },
    {
      "cell_type": "code",
      "execution_count": 5,
      "metadata": {
        "id": "p1AGJ7DM85kR",
        "outputId": "00bb4577-f6fb-4e44-d2ee-da186b1831d1",
        "colab": {
          "base_uri": "https://localhost:8080/"
        }
      },
      "outputs": [
        {
          "output_type": "stream",
          "name": "stdout",
          "text": [
            "Please enter the speed(km/h)(only number please): \n",
            "\n",
            "> 90\n",
            "Please enter your birthday: (in DD/MM/YYYY format)\n",
            "\n",
            "> 19/06/1999\n",
            "You get a big ticket.\n"
          ]
        }
      ],
      "source": [
        "print(\"Please enter the speed(km/h)(only number please): \\n\")\n",
        "speed = int(input(\"> \"))\n",
        "\n",
        "print(\"Please enter your birthday: (in DD/MM/YYYY format)\\n\")\n",
        "birthday = str(input(\"> \"))\n",
        "\n",
        "def speeding(speed, birthday):\n",
        "    if birthday == '29/08/1989':\n",
        "        s = speed - 5\n",
        "    else:\n",
        "        s = speed\n",
        "\n",
        "    if s <= 60:\n",
        "        print(\"You pass.\")\n",
        "    elif s > 61 and s <= 80:\n",
        "        print(\"You get a small ticket\")\n",
        "    else:\n",
        "        print(\"You get a big ticket.\")\n",
        "\n",
        "speeding(speed, birthday)"
      ]
    },
    {
      "cell_type": "markdown",
      "source": [
        "Create an employee list with basic salary values(at least 5 values for 5 employees)  and using a for loop retreive each employee salary and calculate total salary expenditure. "
      ],
      "metadata": {
        "id": "Tie4rC7_kAOC"
      }
    },
    {
      "cell_type": "code",
      "source": [
        "emp_sal=[500000,45000,700000,25000,35000]\n",
        "total_salary_expenditure=0\n",
        "for i in emp_sal:\n",
        "  total_salary_expenditure +=i\n",
        "  print('total salary expenditure is',total_salary_expenditure)"
      ],
      "metadata": {
        "id": "R5-CdXSKjacN",
        "colab": {
          "base_uri": "https://localhost:8080/"
        },
        "outputId": "25ed8c5d-27f4-4e26-bf9a-0a0154277d7f"
      },
      "execution_count": 50,
      "outputs": [
        {
          "output_type": "stream",
          "name": "stdout",
          "text": [
            "total salary expenditure is 500000\n",
            "total salary expenditure is 545000\n",
            "total salary expenditure is 1245000\n",
            "total salary expenditure is 1270000\n",
            "total salary expenditure is 1305000\n"
          ]
        }
      ]
    },
    {
      "cell_type": "markdown",
      "source": [
        "Create two dictionaries in Python:\n",
        "\n",
        "First one to contain fields as Empid,  Empname,  Basicpay\n",
        "\n",
        "Second dictionary to contain fields as DeptName,  DeptId.\n",
        "\n",
        "Combine both dictionaries. "
      ],
      "metadata": {
        "id": "-L1aiFqRkF5s"
      }
    },
    {
      "cell_type": "code",
      "source": [
        "def Merge(dict1,dict2):\n",
        "  return(dict2.update(dict1))\n",
        "  dict1={'empid': 13, 'empname':'jack','basicpay':700000}\n",
        "  dict2={'deptname': 'analytics','deptid':7}\n",
        "  print(merge(dict1,dict2))\n",
        "  print(dict2)"
      ],
      "metadata": {
        "id": "8ugVoEe0kOsk"
      },
      "execution_count": 51,
      "outputs": []
    }
  ],
  "metadata": {
    "colab": {
      "provenance": []
    },
    "kernelspec": {
      "display_name": "Python 3",
      "language": "python",
      "name": "python3"
    },
    "language_info": {
      "codemirror_mode": {
        "name": "ipython",
        "version": 3
      },
      "file_extension": ".py",
      "mimetype": "text/x-python",
      "name": "python",
      "nbconvert_exporter": "python",
      "pygments_lexer": "ipython3",
      "version": "3.8.5"
    }
  },
  "nbformat": 4,
  "nbformat_minor": 0
}